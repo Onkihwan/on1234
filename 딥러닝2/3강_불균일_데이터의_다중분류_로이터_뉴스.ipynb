{
  "cells": [
    {
      "cell_type": "markdown",
      "id": "48bdcec4",
      "metadata": {
        "id": "48bdcec4"
      },
      "source": [
        "# 로이터 뉴스 데이터셋"
      ]
    },
    {
      "cell_type": "markdown",
      "id": "0c20dc58",
      "metadata": {
        "id": "0c20dc58"
      },
      "source": [
        "케라스의 [tf.keras.datasets.reuters](https://www.tensorflow.org/api_docs/python/tf/keras/datasets/reuters)로부터 로이터 뉴스 데이터셋을 불러오겠습니다.  \n",
        "역시 등장빈도가 10,000등안에 들지 않는 단어들은 `<UNKNOWN>`으로 전처리하겠습니다.\n",
        "- 로이터 뉴스 기사 11,228개\n",
        "- 훈련용 : 8,982개, 테스트용 : 2,246개\n",
        "- 46개의 주제로 분류되며 라벨은 0부터 45\n",
        "- 주제별 기사 개수는 편차가 큼  \n",
        "![](https://drive.google.com/thumbnail?id=1ELjNVEQLqoPw7g6TXLINYz0seROlrJd0&sz=s4000)"
      ]
    },
    {
      "cell_type": "code",
      "execution_count": null,
      "id": "0cb2825a",
      "metadata": {
        "id": "0cb2825a"
      },
      "outputs": [],
      "source": [
        "from tensorflow import keras\n",
        "from keras.datasets import reuters\n",
        "(train_data, train_labels), (test_data, test_labels) = reuters.load_data(num_words=10000)\n",
        "\n",
        "print(f\"훈련용 : {len(train_data)}\")\n",
        "print(f\"테스트용 : {len(test_data)}\")"
      ]
    },
    {
      "cell_type": "markdown",
      "id": "6a011a75",
      "metadata": {
        "id": "6a011a75"
      },
      "source": [
        "0부터 45까지의 라벨은 다음 주제와 대응합니다."
      ]
    },
    {
      "cell_type": "code",
      "execution_count": null,
      "id": "c6716865",
      "metadata": {
        "id": "c6716865"
      },
      "outputs": [],
      "source": [
        " class_names = ['cocoa','grain','veg-oil','earn','acq','wheat','copper','housing','money-supply',\n",
        "                'coffee','sugar','trade','reserves','ship','cotton','carcass','crude','nat-gas',\n",
        "                'cpi','money-fx','interest','gnp','meal-feed','alum','oilseed','gold','tin',\n",
        "                'strategic-metal','livestock','retail','ipi','iron-steel','rubber','heat','jobs',\n",
        "                'lei','bop','zinc','orange','pet-chem','dlr','gas','silver','wpi','hog','lead']"
      ]
    },
    {
      "cell_type": "markdown",
      "id": "43f46692",
      "metadata": {
        "id": "43f46692"
      },
      "source": [
        "주제별 기사 개수는 편차가 매우 큽니다."
      ]
    },
    {
      "cell_type": "code",
      "execution_count": null,
      "id": "fc23c77b",
      "metadata": {
        "id": "fc23c77b"
      },
      "outputs": [],
      "source": [
        "import matplotlib.pyplot as plt\n",
        "\n",
        "plt.figure(figsize=(15,8))\n",
        "plt.hist(train_labels, bins=46, align='left')\n",
        "plt.xticks(range(46))\n",
        "plt.show()"
      ]
    },
    {
      "cell_type": "markdown",
      "id": "50256f5c",
      "metadata": {
        "id": "50256f5c"
      },
      "source": [
        "**[실습1] (10분) key를 class_names의 항목으로 value를 해당 기사 개수로 가지는 딕셔너리를 출력하시오.**"
      ]
    },
    {
      "cell_type": "code",
      "execution_count": null,
      "id": "354959df",
      "metadata": {
        "id": "354959df"
      },
      "outputs": [],
      "source": []
    },
    {
      "cell_type": "markdown",
      "id": "a5493c0b",
      "metadata": {
        "id": "a5493c0b"
      },
      "source": [
        "첫번째 훈련 데이터입니다.  \n",
        "원래는 영문 기사인데 이미 전처리되어 정수열로 저장되어 있습니다."
      ]
    },
    {
      "cell_type": "code",
      "execution_count": null,
      "id": "3ad6ec46",
      "metadata": {
        "id": "3ad6ec46"
      },
      "outputs": [],
      "source": [
        "print(train_data[0])"
      ]
    },
    {
      "cell_type": "markdown",
      "id": "ba92d830",
      "metadata": {
        "id": "ba92d830"
      },
      "source": [
        "무슨 말인지는 모르겠지만 주제가 earn이라네요."
      ]
    },
    {
      "cell_type": "code",
      "execution_count": null,
      "id": "5615cd95",
      "metadata": {
        "id": "5615cd95"
      },
      "outputs": [],
      "source": [
        "print(class_names[train_labels[0]])"
      ]
    },
    {
      "cell_type": "markdown",
      "id": "1dd902cb",
      "metadata": {
        "id": "1dd902cb"
      },
      "source": [
        "영어를 인덱스로 바꾸는 사전을 불러오겠습니다.  \n",
        "얼마나 자주 등장하느냐로 어휘에 인덱스를 부여합니다.  \n",
        "인덱스는 1부터 출발합니다."
      ]
    },
    {
      "cell_type": "code",
      "execution_count": null,
      "id": "e5dae640",
      "metadata": {
        "id": "e5dae640"
      },
      "outputs": [],
      "source": [
        "word_index = reuters.get_word_index()\n",
        "print(word_index)"
      ]
    },
    {
      "cell_type": "markdown",
      "id": "fab5b22d",
      "metadata": {
        "id": "fab5b22d"
      },
      "source": [
        "위에서 키와 밸류를 바꾼 딕셔너리를 만들겠습니다.  \n",
        "인덱스를 영어로 바꾸는데 필요한 사전입니다."
      ]
    },
    {
      "cell_type": "code",
      "execution_count": null,
      "id": "f4b31fd2",
      "metadata": {
        "id": "f4b31fd2"
      },
      "outputs": [],
      "source": [
        "reverse_word_index = dict([(value, key) for (key, value) in word_index.items()])\n",
        "print(reverse_word_index)"
      ]
    },
    {
      "cell_type": "markdown",
      "id": "b6f9216b",
      "metadata": {
        "id": "b6f9216b"
      },
      "source": [
        "등장빈도 톱 20위 어휘들입니다.  \n",
        "일상적으로 많이 쓰이는 관사, 전치사, 대명사가 보이네요.  \n",
        "아무래도 경제 기사들이다보니 dlrs(=dollars), pct(=percent), mln(=million), 숫자들이 등장합니다.  \n",
        "인터뷰와 인용 때문인지 said가 상위권입니다."
      ]
    },
    {
      "cell_type": "code",
      "execution_count": null,
      "id": "17c4d4b9",
      "metadata": {
        "id": "17c4d4b9"
      },
      "outputs": [],
      "source": [
        "for idx in range(1,21):\n",
        "    print(reverse_word_index[idx])"
      ]
    },
    {
      "cell_type": "markdown",
      "id": "fb922038",
      "metadata": {
        "id": "fb922038"
      },
      "source": [
        "위 사전을 이용해서 첫번째 훈련 데이터를 디코딩해보죠.  \n",
        "주의할 점은 전처리된 데이터에서 0,1,2,3은 특별 토큰을 나타냅니다.\n",
        "- 0 : `<PAD>` (문장의 길이가 같아지도록 끼워넣는 더미, 여기서는 사용안함)\n",
        "- 1 : `<START>` (문장의 시작을 알림)\n",
        "- 2 : `<UNK>` (등장빈도가 낮은 어휘)\n",
        "- 3 : `<UNUSED>`\n",
        "\n",
        "그래서 어휘들의 인덱스가 3씩 뒤로 밀려있습니다.  \n",
        "예를들어, the의 인덱스는 원래 1인데 특별 토큰때문에 3만큼 밀려서 4로 표시됩니다.  \n",
        "그래서, 3을 빼준후에 어휘로 바꿔줘야 제대로 디코딩이 됩니다.  \n",
        "`.get(i-1,\"?\")`은 i-1이 딕셔너리의 key에 없으면 ?로 대체하라는 뜻입니다.  \n",
        "i가 특수토큰을 나타내는 0,1,2,3일경우는 i-3이 -3,-2,-1,0이 되어서 딕셔너리의 key에 없기 때문에 ?로 대체됩니다.  \n",
        "\" \".join은 리스트 안의 단어를을 이어붙이는데 사이에 따옴표안에 있는 문자인 스페이스를 끼워 넣으라는 뜻입니다."
      ]
    },
    {
      "cell_type": "code",
      "execution_count": null,
      "id": "b1046dfb",
      "metadata": {
        "id": "b1046dfb"
      },
      "outputs": [],
      "source": [
        "decoded_newswire = \" \".join([reverse_word_index.get(i - 3, \"?\") for i in train_data[0]])\n",
        "print(decoded_newswire)"
      ]
    },
    {
      "cell_type": "markdown",
      "id": "521e77c1",
      "metadata": {
        "id": "521e77c1"
      },
      "source": [
        "기사마다 데이터의 길이가 다릅니다.  \n",
        "이래서는 신경망의 입력 뉴런의 수가 정해질 수 없습니다."
      ]
    },
    {
      "cell_type": "code",
      "execution_count": null,
      "id": "3807a2bf",
      "metadata": {
        "id": "3807a2bf"
      },
      "outputs": [],
      "source": [
        "import numpy as np\n",
        "\n",
        "news_length = [len(news) for news in train_data]\n",
        "\n",
        "print(f'최대 길이 : {np.max(news_length)}')\n",
        "print(f'평균 길이 : {np.mean(news_length)}')\n",
        "print(f'최소 길이 : {np.min(news_length)}')\n",
        "\n",
        "plt.hist(news_length, bins=50)\n",
        "plt.show()"
      ]
    },
    {
      "cell_type": "markdown",
      "id": "96dc0940",
      "metadata": {
        "id": "96dc0940"
      },
      "source": [
        "모두 10,000의 길이를 가지는 멀티 핫 벡터로 다시 인코딩하겠습니다.  \n",
        "정수형 라벨을 그대로 사용해도 되지만 연습삼아 원 핫 인코딩한 후에 학습시키겠습니다."
      ]
    },
    {
      "cell_type": "code",
      "execution_count": null,
      "id": "a1876cd7",
      "metadata": {
        "id": "a1876cd7"
      },
      "outputs": [],
      "source": [
        "from tensorflow.keras.utils import to_categorical\n",
        "\n",
        "def vectorize_sequences(sequences, dimension=10000):\n",
        "    results = np.zeros((len(sequences), dimension))\n",
        "    for i, sequence in enumerate(sequences):\n",
        "        for j in sequence:\n",
        "            results[i, j] = 1.\n",
        "    return results\n",
        "\n",
        "x_train = vectorize_sequences(train_data)\n",
        "x_test = vectorize_sequences(test_data)\n",
        "y_train = to_categorical(train_labels)\n",
        "y_test = to_categorical(test_labels)"
      ]
    },
    {
      "cell_type": "markdown",
      "id": "779fe650",
      "metadata": {
        "id": "779fe650"
      },
      "source": [
        "멀티 핫 인코딩한 첫번째 훈련 데이터입니다."
      ]
    },
    {
      "cell_type": "code",
      "execution_count": null,
      "id": "b221c24c",
      "metadata": {
        "id": "b221c24c"
      },
      "outputs": [],
      "source": [
        "np.set_printoptions(linewidth=100,threshold=10000)\n",
        "\n",
        "print(x_train[0])"
      ]
    },
    {
      "cell_type": "markdown",
      "id": "6991f86f",
      "metadata": {
        "id": "6991f86f"
      },
      "source": [
        "# 다중분류"
      ]
    },
    {
      "cell_type": "markdown",
      "id": "b9a0d843",
      "metadata": {
        "id": "b9a0d843"
      },
      "source": [
        "다음과 같이 신경망을 구성하겠습니다.  \n",
        "![](https://drive.google.com/thumbnail?id=1r-y981q0FqfJRTUR0rgymLFpddrUnJLf&sz=s4000)"
      ]
    },
    {
      "cell_type": "code",
      "execution_count": null,
      "id": "eec3007a",
      "metadata": {
        "id": "eec3007a"
      },
      "outputs": [],
      "source": [
        "from keras import models\n",
        "from keras.layers import Dense\n",
        "from tensorflow.keras.utils import plot_model\n",
        "\n",
        "model = keras.Sequential([\n",
        "    Dense(64, input_shape=(10000,), activation=\"relu\"),\n",
        "    Dense(64, activation=\"relu\"),\n",
        "    Dense(46, activation=\"softmax\")\n",
        "])\n",
        "\n",
        "plot_model(model, show_shapes=True, show_layer_activations=True)"
      ]
    },
    {
      "cell_type": "markdown",
      "id": "55c0389b",
      "metadata": {
        "id": "55c0389b"
      },
      "source": [
        "라벨을 원 핫 인코딩했기 때문에 손실함수 설정을 categorical_crossentropy로 해줍니다."
      ]
    },
    {
      "cell_type": "code",
      "execution_count": null,
      "id": "cae3cd8d",
      "metadata": {
        "id": "cae3cd8d"
      },
      "outputs": [],
      "source": [
        "model.compile(optimizer=\"rmsprop\",\n",
        "              loss=\"categorical_crossentropy\",\n",
        "              metrics=[\"accuracy\"])"
      ]
    },
    {
      "cell_type": "markdown",
      "id": "53bd135d",
      "metadata": {
        "id": "53bd135d"
      },
      "source": [
        "8,982개의 훈련 데이터를 1,000개와 7,982개로 쪼개서 전자를 검증용으로 후자를 훈련용으로 사용하겠습니다."
      ]
    },
    {
      "cell_type": "code",
      "execution_count": null,
      "id": "21b77344",
      "metadata": {
        "id": "21b77344"
      },
      "outputs": [],
      "source": [
        "x_val = x_train[:1000]\n",
        "partial_x_train = x_train[1000:]\n",
        "y_val = y_train[:1000]\n",
        "partial_y_train = y_train[1000:]"
      ]
    },
    {
      "cell_type": "markdown",
      "id": "39031b65",
      "metadata": {
        "id": "39031b65"
      },
      "source": [
        "검증 데이터로 하이퍼 파라미터인 학습회수를 결정하겠습니다.  \n",
        "학습회수를 넉넉히 20에폭\n",
        "으로 잡고 과적합을 유도하겠습니다."
      ]
    },
    {
      "cell_type": "code",
      "execution_count": null,
      "id": "b1a2133c",
      "metadata": {
        "id": "b1a2133c"
      },
      "outputs": [],
      "source": [
        "history = model.fit(partial_x_train,\n",
        "                    partial_y_train,\n",
        "                    epochs=20,\n",
        "                    batch_size=512,\n",
        "                    validation_data=(x_val, y_val))"
      ]
    },
    {
      "cell_type": "markdown",
      "id": "297e1d61",
      "metadata": {
        "id": "297e1d61"
      },
      "source": [
        "대략 9에폭부터 과적합이 시작되네요."
      ]
    },
    {
      "cell_type": "code",
      "execution_count": null,
      "id": "1430581e",
      "metadata": {
        "id": "1430581e"
      },
      "outputs": [],
      "source": [
        "loss = history.history['loss']\n",
        "val_loss = history.history['val_loss']\n",
        "\n",
        "epochs = range(1, len(loss) + 1)\n",
        "\n",
        "plt.plot(epochs, loss, 'bo', label='Training loss')\n",
        "plt.plot(epochs, val_loss, 'b', label='Validation loss')\n",
        "plt.title('Training and validation loss')\n",
        "plt.xlabel('Epochs')\n",
        "plt.ylabel('Loss')\n",
        "plt.legend()\n",
        "\n",
        "plt.show()"
      ]
    },
    {
      "cell_type": "code",
      "execution_count": null,
      "id": "885f9408",
      "metadata": {
        "id": "885f9408"
      },
      "outputs": [],
      "source": [
        "acc = history.history[\"accuracy\"]\n",
        "val_acc = history.history[\"val_accuracy\"]\n",
        "plt.plot(epochs, acc, \"bo\", label=\"Training accuracy\")\n",
        "plt.plot(epochs, val_acc, \"b\", label=\"Validation accuracy\")\n",
        "plt.title(\"Training and validation accuracy\")\n",
        "plt.xlabel(\"Epochs\")\n",
        "plt.ylabel(\"Accuracy\")\n",
        "plt.legend()\n",
        "plt.show()"
      ]
    },
    {
      "cell_type": "markdown",
      "id": "a286b3b8",
      "metadata": {
        "id": "a286b3b8"
      },
      "source": [
        "신경망을 초기화하고 훈련 에폭을 9로 설정합시다.  \n",
        "하이퍼 파라미터 튜닝이 끝났기 때문에 처음에 주어진 훈련 데이터 전체를 사용해 학습시키겠습니다.  \n",
        "46진 분류라는 점을 감안하면 최종 정확도가 매우 높게 느껴질수 있습니다.  \n",
        "주제별 기사 개수가 고르다면 이는 분명 높은 정확도가 맞습니다.  \n",
        "기사를 안읽고 찍었을때 대략 1/46$\\approx$0.021가 나올테니까요.  \n",
        "하지만 위에서 봤다시피 주제별 기사개수의 편차가 매우 큽니다."
      ]
    },
    {
      "cell_type": "code",
      "execution_count": null,
      "id": "f653ac1c",
      "metadata": {
        "id": "f653ac1c"
      },
      "outputs": [],
      "source": [
        "model = keras.Sequential([\n",
        "  Dense(64, input_shape=(10000,), activation=\"relu\"),\n",
        "  Dense(64, activation=\"relu\"),\n",
        "  Dense(46, activation=\"softmax\")\n",
        "])\n",
        "model.compile(optimizer=\"rmsprop\",\n",
        "              loss=\"categorical_crossentropy\",\n",
        "              metrics=[\"accuracy\"])\n",
        "\n",
        "model.fit(x_train,\n",
        "          y_train,\n",
        "          epochs=9,\n",
        "          batch_size=512)\n",
        "\n",
        "results = model.evaluate(x_test, y_test)\n",
        "print(\"\\n\")\n",
        "print(results)"
      ]
    },
    {
      "cell_type": "markdown",
      "id": "39f1959b",
      "metadata": {
        "id": "39f1959b"
      },
      "source": [
        "기사 내용을 안읽고 주제를 찍는 실험을 해보겠습니다.  \n",
        "주의할 점은 찍는 주제를 기사 개수만큼 답해야 합니다.  \n",
        "예를 들어, cocoa는 55번 답하고 grain은 432번 답합니다.  \n",
        "구현하는 아이디어는 라벨을 섞은후 원래 라벨과 순서대로 비교해서 일치하는 개수를 세는 것입니다.  \n",
        "섞은 후의 리스트에 따라 순서대로 대답한다고 생각하는 것이지요.  \n",
        "클래스 편차로 인해 이런 방식으로 찍을 경우 예상외로 높은 정확도가 나옵니다.  \n",
        "실행할때미다 조금씩 달라지지만 무려 MNIST 경우의 두배에 가깝네요."
      ]
    },
    {
      "cell_type": "code",
      "execution_count": null,
      "id": "349f0ac4",
      "metadata": {
        "id": "349f0ac4"
      },
      "outputs": [],
      "source": [
        "import copy\n",
        "test_labels_copy = copy.copy(test_labels)\n",
        "np.random.shuffle(test_labels_copy)\n",
        "hits_array = np.array(test_labels) == np.array(test_labels_copy)\n",
        "hits_array.mean()"
      ]
    },
    {
      "cell_type": "markdown",
      "id": "089b8519",
      "metadata": {
        "id": "089b8519"
      },
      "source": [
        "실행할때마다 달라지긴 하는데 첫번째 테스트 데이터에 대해서는 신경망이 3(=earn) 또는 4(=acq)중에 망설입니다."
      ]
    },
    {
      "cell_type": "code",
      "execution_count": null,
      "id": "0b200e13",
      "metadata": {
        "id": "0b200e13"
      },
      "outputs": [],
      "source": [
        "predictions = model.predict(x_test)\n",
        "\n",
        "plt.bar(range(46), predictions[0])\n",
        "plt.show()\n",
        "print(f\"예측 주제 : {class_names[np.argmax(predictions[0])]}\")"
      ]
    },
    {
      "cell_type": "markdown",
      "id": "97ee6a41",
      "metadata": {
        "id": "97ee6a41"
      },
      "source": [
        "라벨은 3(=earn)입니다.  \n",
        "학습을 새로 할때마다 맞출때도 있고 틀릴때도 있습니다.  \n",
        "틀릴 때는 4(=acq)라고 대답해서입니다."
      ]
    },
    {
      "cell_type": "code",
      "execution_count": null,
      "id": "d544d6ec",
      "metadata": {
        "id": "d544d6ec"
      },
      "outputs": [],
      "source": [
        "print(f\"실제 주제 : {class_names[test_labels[0]]}\")\n",
        "print(\"\\n텍스트 :\")\n",
        "decoded_newswire = \" \".join([reverse_word_index.get(i - 3, \"?\") for i in test_data[0]])\n",
        "print(decoded_newswire)"
      ]
    },
    {
      "cell_type": "markdown",
      "id": "9ddd1143",
      "metadata": {
        "id": "9ddd1143"
      },
      "source": [
        "우연이 아니라 혼동행렬을 구해보면 3를 4이라고 대답한 경우가 많습니다."
      ]
    },
    {
      "cell_type": "code",
      "execution_count": null,
      "id": "11de13ea",
      "metadata": {
        "id": "11de13ea"
      },
      "outputs": [],
      "source": [
        "from sklearn.metrics import confusion_matrix\n",
        "import seaborn as sns\n",
        "\n",
        "confusion = confusion_matrix(test_labels, np.argmax(predictions, axis=1))\n",
        "\n",
        "plt.figure(figsize=(20,20))\n",
        "sns.heatmap(confusion, annot=True, fmt='d', cmap='Blues')\n",
        "plt.xlabel(\"Predicted Label\")\n",
        "plt.ylabel(\"True Label\")\n",
        "plt.show()"
      ]
    },
    {
      "cell_type": "code",
      "execution_count": null,
      "id": "9bd358d8",
      "metadata": {
        "id": "9bd358d8"
      },
      "outputs": [],
      "source": [
        "from sklearn.metrics import classification_report\n",
        "\n",
        "print(classification_report(test_labels, np.argmax(predictions, axis=1), zero_division=0))"
      ]
    },
    {
      "cell_type": "markdown",
      "id": "9eb58449",
      "metadata": {
        "id": "9eb58449"
      },
      "source": [
        "**[실습2] (10분) (i) 등장빈도가 100등안에 들지 못하는 단어는 `<UNK>`으로 전처리한 후 첫번째 훈련 데이터를 디코딩하여 출력하시오.**"
      ]
    },
    {
      "cell_type": "code",
      "execution_count": null,
      "id": "6b8c733c",
      "metadata": {
        "id": "6b8c733c"
      },
      "outputs": [],
      "source": []
    },
    {
      "cell_type": "markdown",
      "id": "bc06b116",
      "metadata": {
        "id": "bc06b116"
      },
      "source": [
        "**(ii) 멀티 핫 인코딩한 후 첫번째 훈련 데이터를 출력하시오.**"
      ]
    },
    {
      "cell_type": "code",
      "execution_count": null,
      "id": "58abdf06",
      "metadata": {
        "id": "58abdf06"
      },
      "outputs": [],
      "source": []
    },
    {
      "cell_type": "markdown",
      "id": "ea8c3ce2",
      "metadata": {
        "id": "ea8c3ce2"
      },
      "source": [
        "**(iii) 입력 뉴런수만 바꾼 신경망으로 학습시킨후 테스트 데이터의 정확도를 측정하시오.**"
      ]
    },
    {
      "cell_type": "code",
      "execution_count": null,
      "id": "b88c5c2f",
      "metadata": {
        "id": "b88c5c2f"
      },
      "outputs": [],
      "source": []
    },
    {
      "cell_type": "markdown",
      "id": "386ac77c",
      "metadata": {
        "id": "386ac77c"
      },
      "source": [
        "# 병목(bottleneck)현상"
      ]
    },
    {
      "cell_type": "markdown",
      "id": "07872115",
      "metadata": {
        "id": "07872115"
      },
      "source": [
        "두번째 Affine층의 출력 뉴런수를 64개에서 4개로 줄여보겠습니다.  \n",
        "이는 마치 고속도로 차선이 갑자기 줄어드는 것과 같습니다.  \n",
        "교통체증이 발생하겠죠.  \n",
        "신경망도 마찬가지입니다.  \n",
        "병목(bottleneck)현상때문에 정확도가 많이 떨어집니다.  \n",
        "![](https://drive.google.com/thumbnail?id=1Qqu_Qk3-DNMvT7r8okFdiYSRx0agLnVC&sz=s4000)"
      ]
    },
    {
      "cell_type": "code",
      "execution_count": null,
      "id": "d7cf29ab",
      "metadata": {
        "id": "d7cf29ab"
      },
      "outputs": [],
      "source": [
        "model_bottle = keras.Sequential([\n",
        "    Dense(64, activation=\"relu\"),\n",
        "    Dense(4, activation=\"relu\"),\n",
        "    Dense(46, activation=\"softmax\")\n",
        "])\n",
        "\n",
        "model_bottle.compile(optimizer=\"rmsprop\",\n",
        "              loss=\"categorical_crossentropy\",\n",
        "              metrics=[\"accuracy\"])\n",
        "\n",
        "model_bottle.fit(partial_x_train,\n",
        "          partial_y_train,\n",
        "          epochs=20,\n",
        "          batch_size=128,\n",
        "          validation_data=(x_val, y_val))\n",
        "\n",
        "results = model_bottle.evaluate(x_test, y_test)\n",
        "print(\"\\n\")\n",
        "print(results)"
      ]
    }
  ],
  "metadata": {
    "colab": {
      "provenance": []
    },
    "kernelspec": {
      "display_name": "Python 3 (ipykernel)",
      "language": "python",
      "name": "python3"
    },
    "language_info": {
      "codemirror_mode": {
        "name": "ipython",
        "version": 3
      },
      "file_extension": ".py",
      "mimetype": "text/x-python",
      "name": "python",
      "nbconvert_exporter": "python",
      "pygments_lexer": "ipython3",
      "version": "3.10.14"
    }
  },
  "nbformat": 4,
  "nbformat_minor": 5
}
